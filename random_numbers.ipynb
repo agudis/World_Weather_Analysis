{
 "cells": [
  {
   "cell_type": "code",
   "execution_count": 1,
   "id": "35586e83",
   "metadata": {},
   "outputs": [],
   "source": [
    "# Import the random module \n",
    "\n",
    "import random"
   ]
  },
  {
   "cell_type": "code",
   "execution_count": 3,
   "id": "1945efaa",
   "metadata": {},
   "outputs": [
    {
     "data": {
      "text/plain": [
       "-47"
      ]
     },
     "execution_count": 3,
     "metadata": {},
     "output_type": "execute_result"
    }
   ],
   "source": [
    "random.randint(-90,90)"
   ]
  },
  {
   "cell_type": "code",
   "execution_count": 4,
   "id": "1ea25a25",
   "metadata": {},
   "outputs": [
    {
     "data": {
      "text/plain": [
       "0.2075074312286228"
      ]
     },
     "execution_count": 4,
     "metadata": {},
     "output_type": "execute_result"
    }
   ],
   "source": [
    "random.random()"
   ]
  },
  {
   "cell_type": "code",
   "execution_count": 5,
   "id": "96055b8b",
   "metadata": {},
   "outputs": [
    {
     "data": {
      "text/plain": [
       "59.58240792942473"
      ]
     },
     "execution_count": 5,
     "metadata": {},
     "output_type": "execute_result"
    }
   ],
   "source": [
    "random_number = random.randint(-90, 89) + random.random()\n",
    "random_number"
   ]
  },
  {
   "cell_type": "code",
   "execution_count": 7,
   "id": "214434ec",
   "metadata": {},
   "outputs": [
    {
     "data": {
      "text/plain": [
       "[72.02877838915877,\n",
       " 13.754025407121283,\n",
       " -48.63910749862603,\n",
       " 60.701958167047565,\n",
       " 29.17813871211435,\n",
       " 36.15146603590055,\n",
       " 22.8188290189083,\n",
       " 40.118619621698606,\n",
       " -83.45973952369506,\n",
       " -47.20347197816831]"
      ]
     },
     "execution_count": 7,
     "metadata": {},
     "output_type": "execute_result"
    }
   ],
   "source": [
    "x = 1\n",
    "latitudes = []\n",
    "while x < 11:\n",
    "    random_lat = random.randint(-90, 89) + random.random()\n",
    "    latitudes.append(random_lat)\n",
    "    x += 1\n",
    "\n",
    "latitudes"
   ]
  },
  {
   "cell_type": "code",
   "execution_count": 8,
   "id": "3a603025",
   "metadata": {},
   "outputs": [
    {
     "data": {
      "text/plain": [
       "-40"
      ]
     },
     "execution_count": 8,
     "metadata": {},
     "output_type": "execute_result"
    }
   ],
   "source": [
    "random.randrange(-90, 90, step=1)"
   ]
  },
  {
   "cell_type": "code",
   "execution_count": 12,
   "id": "2eada6a4",
   "metadata": {},
   "outputs": [
    {
     "data": {
      "text/plain": [
       "-27"
      ]
     },
     "execution_count": 12,
     "metadata": {},
     "output_type": "execute_result"
    }
   ],
   "source": [
    "random.randrange(-90, 90, step=3)"
   ]
  },
  {
   "cell_type": "code",
   "execution_count": 13,
   "id": "b55b1c0c",
   "metadata": {},
   "outputs": [
    {
     "data": {
      "text/plain": [
       "-9.802555515254781"
      ]
     },
     "execution_count": 13,
     "metadata": {},
     "output_type": "execute_result"
    }
   ],
   "source": [
    "random.uniform(-90, 90)"
   ]
  },
  {
   "cell_type": "code",
   "execution_count": 14,
   "id": "48907bec",
   "metadata": {},
   "outputs": [],
   "source": [
    "# IMport the NumPy module. \n",
    "import numpy as np"
   ]
  },
  {
   "cell_type": "code",
   "execution_count": 15,
   "id": "f1201042",
   "metadata": {},
   "outputs": [
    {
     "data": {
      "text/plain": [
       "-37.7437093681955"
      ]
     },
     "execution_count": 15,
     "metadata": {},
     "output_type": "execute_result"
    }
   ],
   "source": [
    "np.random.uniform(-90.000, 90.000)"
   ]
  },
  {
   "cell_type": "code",
   "execution_count": 16,
   "id": "4aa45c37",
   "metadata": {},
   "outputs": [
    {
     "data": {
      "text/plain": [
       "array([-56.16182168, -79.4465781 ,  80.6736294 , -52.17498252,\n",
       "        52.36119458, -21.04246043,   7.54072045,  51.03729714,\n",
       "       -61.32127582,  29.28038778,  23.78818574, -38.46983373,\n",
       "       -84.72477316, -36.84723   ,  77.16295646, -67.35758463,\n",
       "        -2.58903097, -50.82195907,  19.84364309, -67.5585813 ,\n",
       "        62.25187852, -49.61722122, -41.1853299 , -80.24212072,\n",
       "        31.35039691, -31.07423815,  51.36631372,  32.12616228,\n",
       "       -32.59869969,  31.74516128, -60.84921455,  68.05763259,\n",
       "       -86.89361419,  80.60031915,  49.21048083, -25.88842674,\n",
       "        69.40736054, -84.23202886,  44.77673597, -55.24234292,\n",
       "       -21.49966779, -20.39240803, -15.56031169, -81.83351729,\n",
       "        53.36238252, -39.48231965, -70.78898398, -13.42859087,\n",
       "        68.08932803,  71.29496926])"
      ]
     },
     "execution_count": 16,
     "metadata": {},
     "output_type": "execute_result"
    }
   ],
   "source": [
    "np.random.uniform(-90.000, 90.000, size=50)"
   ]
  },
  {
   "cell_type": "code",
   "execution_count": 17,
   "id": "18d81585",
   "metadata": {},
   "outputs": [],
   "source": [
    "# Import timeit. \n",
    "import timeit "
   ]
  },
  {
   "cell_type": "code",
   "execution_count": 18,
   "id": "9aa504eb",
   "metadata": {},
   "outputs": [
    {
     "name": "stdout",
     "output_type": "stream",
     "text": [
      "49.8 µs ± 472 ns per loop (mean ± std. dev. of 7 runs, 10000 loops each)\n"
     ]
    }
   ],
   "source": [
    "%timeit np.random.uniform(-90.000, 90.000, size=1500)"
   ]
  },
  {
   "cell_type": "code",
   "execution_count": 19,
   "id": "e333c25f",
   "metadata": {},
   "outputs": [
    {
     "name": "stdout",
     "output_type": "stream",
     "text": [
      "5.75 ms ± 62.6 µs per loop (mean ± std. dev. of 7 runs, 100 loops each)\n"
     ]
    }
   ],
   "source": [
    "def latitudes(size):\n",
    "    latitudes = []\n",
    "    x = 0\n",
    "    while x < (size):\n",
    "        random_lat = random.randint(-90, 90) + random.random()\n",
    "        latitudes.append(random_lat)\n",
    "        x += 1\n",
    "    return latitudes \n",
    "\n",
    "# Call the function with 1500 \n",
    "%timeit latitudes(1500)"
   ]
  },
  {
   "cell_type": "code",
   "execution_count": null,
   "id": "32654b54",
   "metadata": {},
   "outputs": [],
   "source": []
  }
 ],
 "metadata": {
  "kernelspec": {
   "display_name": "PythonData",
   "language": "python",
   "name": "pythondata"
  },
  "language_info": {
   "codemirror_mode": {
    "name": "ipython",
    "version": 3
   },
   "file_extension": ".py",
   "mimetype": "text/x-python",
   "name": "python",
   "nbconvert_exporter": "python",
   "pygments_lexer": "ipython3",
   "version": "3.7.15"
  }
 },
 "nbformat": 4,
 "nbformat_minor": 5
}
